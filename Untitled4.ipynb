{
  "nbformat": 4,
  "nbformat_minor": 0,
  "metadata": {
    "colab": {
      "name": "Untitled4.ipynb",
      "provenance": []
    },
    "kernelspec": {
      "name": "python3",
      "display_name": "Python 3"
    }
  },
  "cells": [
    {
      "cell_type": "code",
      "metadata": {
        "id": "EnGgSQgPRJDD",
        "colab_type": "code",
        "colab": {
          "base_uri": "https://localhost:8080/",
          "height": 102
        },
        "outputId": "00bf0b66-de32-4005-e120-5c73c465ab2e"
      },
      "source": [
        "x = int(input(\"請輸入起始的正整數:\"))\n",
        "y = int(input(\"請輸入終止的正整數:\"))\n",
        "odds = []\n",
        "for i in range(x, y+1):\n",
        "    mod = i % 2\n",
        "    if mod == 1:\n",
        "        odds.append(i)\n",
        "    #print(i)\n",
        "print(odds)      #奇數為何\n",
        "print(len(odds)) #記數\n",
        "print(sum(odds)) #加總"
      ],
      "execution_count": 9,
      "outputs": [
        {
          "output_type": "stream",
          "text": [
            "請輸入起始的正整數:13\n",
            "請輸入終止的正整數:59\n",
            "[13, 15, 17, 19, 21, 23, 25, 27, 29, 31, 33, 35, 37, 39, 41, 43, 45, 47, 49, 51, 53, 55, 57, 59]\n",
            "24\n",
            "864\n"
          ],
          "name": "stdout"
        }
      ]
    },
    {
      "cell_type": "code",
      "metadata": {
        "id": "u0MOviz0RSUE",
        "colab_type": "code",
        "colab": {
          "base_uri": "https://localhost:8080/",
          "height": 68
        },
        "outputId": "90c1bda0-92d5-415e-b608-750c8ebff2b0"
      },
      "source": [
        "x = int(input(\"請輸入一個正整數:\"))\n",
        "divisors = []\n",
        "for i in range(1, x+1):\n",
        "    if x % i == 0:\n",
        "        divisors.append(i)\n",
        "print(divisors)\n",
        "n_divisors = len(divisors)\n",
        "if n_divisors == 2:\n",
        "    print(\"{}是質數\".format(x))\n",
        "else:\n",
        "    print(\"{}不是質數\".format(x))"
      ],
      "execution_count": 10,
      "outputs": [
        {
          "output_type": "stream",
          "text": [
            "請輸入一個正整數:1\n",
            "[1]\n",
            "1不是質數\n"
          ],
          "name": "stdout"
        }
      ]
    },
    {
      "cell_type": "code",
      "metadata": {
        "id": "Ttct7EEfRYVT",
        "colab_type": "code",
        "colab": {
          "base_uri": "https://localhost:8080/",
          "height": 85
        },
        "outputId": "79878774-d107-4a66-c0ee-ba06419e48fd"
      },
      "source": [
        "avengers = [\"The Avengers\", \"Avengers: Age of Ultron\", \"Avengers: Infinity War\", \"Avengers: Endgame\"]\n",
        "for idx, movie in enumerate(avengers):\n",
        "    print(\"第 {} 部上映的復仇者聯盟電影:{}\".format(idx+1, movie))"
      ],
      "execution_count": 11,
      "outputs": [
        {
          "output_type": "stream",
          "text": [
            "第 1 部上映的復仇者聯盟電影:The Avengers\n",
            "第 2 部上映的復仇者聯盟電影:Avengers: Age of Ultron\n",
            "第 3 部上映的復仇者聯盟電影:Avengers: Infinity War\n",
            "第 4 部上映的復仇者聯盟電影:Avengers: Endgame\n"
          ],
          "name": "stdout"
        }
      ]
    },
    {
      "cell_type": "code",
      "metadata": {
        "id": "tS6AqrVBRa8s",
        "colab_type": "code",
        "colab": {
          "base_uri": "https://localhost:8080/",
          "height": 85
        },
        "outputId": "a468ea6e-e8d1-48c2-e3cb-d6edba74609a"
      },
      "source": [
        "years = [2012, 2015, 2018, 2019]\n",
        "for year, movie in zip(years, avengers):\n",
        "    print(\"{}上映的年份是{}\".format(movie, year))"
      ],
      "execution_count": 12,
      "outputs": [
        {
          "output_type": "stream",
          "text": [
            "The Avengers上映的年份是2012\n",
            "Avengers: Age of Ultron上映的年份是2015\n",
            "Avengers: Infinity War上映的年份是2018\n",
            "Avengers: Endgame上映的年份是2019\n"
          ],
          "name": "stdout"
        }
      ]
    }
  ]
}