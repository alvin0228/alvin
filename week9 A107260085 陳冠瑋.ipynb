{
  "nbformat": 4,
  "nbformat_minor": 0,
  "metadata": {
    "colab": {
      "name": "Untitled6.ipynb",
      "provenance": [],
      "authorship_tag": "ABX9TyP3ptFJUH+Kbseid2O5tQ8B",
      "include_colab_link": true
    },
    "kernelspec": {
      "name": "python3",
      "display_name": "Python 3"
    }
  },
  "cells": [
    {
      "cell_type": "markdown",
      "metadata": {
        "id": "view-in-github",
        "colab_type": "text"
      },
      "source": [
        "<a href=\"https://colab.research.google.com/github/alvin0228/alvin/blob/master/week9%20A107260085%20%E9%99%B3%E5%86%A0%E7%91%8B.ipynb\" target=\"_parent\"><img src=\"https://colab.research.google.com/assets/colab-badge.svg\" alt=\"Open In Colab\"/></a>"
      ]
    },
    {
      "cell_type": "code",
      "metadata": {
        "id": "YfVPCDMtA16a",
        "colab_type": "code",
        "colab": {
          "base_uri": "https://localhost:8080/",
          "height": 87
        },
        "outputId": "971324be-1879-4abc-c898-be7a2fe44e60"
      },
      "source": [
        "\n",
        "x = int(input(\"請輸入起始的整數:\"))\n",
        "y = int(input(\"請輸入終止的整數:\"))\n",
        "odd_counter = 0 # 歸零\n",
        "i = x # start\n",
        "while i <= y: # stop\n",
        "    # task\n",
        "    if i % 2 == 1:\n",
        "        #odd_counter = odd_counter + 1 # = NOT ==\n",
        "        odd_counter += 1 # 計數累計\n",
        "    #print(odd_counter)\n",
        "    i += 1 # step\n",
        "print(\"======\")\n",
        "print(odd_counter)"
      ],
      "execution_count": 26,
      "outputs": [
        {
          "output_type": "stream",
          "text": [
            "請輸入起始的整數:5\n",
            "請輸入終止的整數:10\n",
            "======\n",
            "3\n"
          ],
          "name": "stdout"
        }
      ]
    },
    {
      "cell_type": "code",
      "metadata": {
        "id": "kM9C74aYA1_5",
        "colab_type": "code",
        "colab": {
          "base_uri": "https://localhost:8080/",
          "height": 87
        },
        "outputId": "c9f62734-cdf6-44bf-f130-cdaf4ccf5c20"
      },
      "source": [
        "x = int(input(\"請輸入起始的整數:\"))\n",
        "y = int(input(\"請輸入終止的整數:\"))\n",
        "odd_summation = 0 # 歸零\n",
        "i = x # start\n",
        "while i <= y: # stop\n",
        "    # task\n",
        "    if i % 2 == 1:\n",
        "        odd_summation = odd_summation + i # 數值累加\n",
        "    i += 1 # step\n",
        "print(\"======\")\n",
        "print(odd_summation)"
      ],
      "execution_count": 27,
      "outputs": [
        {
          "output_type": "stream",
          "text": [
            "請輸入起始的整數:5\n",
            "請輸入終止的整數:10\n",
            "======\n",
            "21\n"
          ],
          "name": "stdout"
        }
      ]
    },
    {
      "cell_type": "code",
      "metadata": {
        "id": "cnpsTbzeA2C8",
        "colab_type": "code",
        "colab": {
          "base_uri": "https://localhost:8080/",
          "height": 1000
        },
        "outputId": "458de28d-b621-4418-9569-e24a5220db31"
      },
      "source": [
        "\n",
        "i = 1 # start\n",
        "while i <= 100: # stop\n",
        "    if i % 15 == 0:\n",
        "        print(\"Fizz Buzz\")\n",
        "    elif i % 3 == 0:\n",
        "        print(\"Fizz\")\n",
        "    elif i % 5 == 0:\n",
        "        print(\"Buzz\")\n",
        "    else:\n",
        "        print(i)\n",
        "    i += 1 # step"
      ],
      "execution_count": 28,
      "outputs": [
        {
          "output_type": "stream",
          "text": [
            "1\n",
            "2\n",
            "Fizz\n",
            "4\n",
            "Buzz\n",
            "Fizz\n",
            "7\n",
            "8\n",
            "Fizz\n",
            "Buzz\n",
            "11\n",
            "Fizz\n",
            "13\n",
            "14\n",
            "Fizz Buzz\n",
            "16\n",
            "17\n",
            "Fizz\n",
            "19\n",
            "Buzz\n",
            "Fizz\n",
            "22\n",
            "23\n",
            "Fizz\n",
            "Buzz\n",
            "26\n",
            "Fizz\n",
            "28\n",
            "29\n",
            "Fizz Buzz\n",
            "31\n",
            "32\n",
            "Fizz\n",
            "34\n",
            "Buzz\n",
            "Fizz\n",
            "37\n",
            "38\n",
            "Fizz\n",
            "Buzz\n",
            "41\n",
            "Fizz\n",
            "43\n",
            "44\n",
            "Fizz Buzz\n",
            "46\n",
            "47\n",
            "Fizz\n",
            "49\n",
            "Buzz\n",
            "Fizz\n",
            "52\n",
            "53\n",
            "Fizz\n",
            "Buzz\n",
            "56\n",
            "Fizz\n",
            "58\n",
            "59\n",
            "Fizz Buzz\n",
            "61\n",
            "62\n",
            "Fizz\n",
            "64\n",
            "Buzz\n",
            "Fizz\n",
            "67\n",
            "68\n",
            "Fizz\n",
            "Buzz\n",
            "71\n",
            "Fizz\n",
            "73\n",
            "74\n",
            "Fizz Buzz\n",
            "76\n",
            "77\n",
            "Fizz\n",
            "79\n",
            "Buzz\n",
            "Fizz\n",
            "82\n",
            "83\n",
            "Fizz\n",
            "Buzz\n",
            "86\n",
            "Fizz\n",
            "88\n",
            "89\n",
            "Fizz Buzz\n",
            "91\n",
            "92\n",
            "Fizz\n",
            "94\n",
            "Buzz\n",
            "Fizz\n",
            "97\n",
            "98\n",
            "Fizz\n",
            "Buzz\n"
          ],
          "name": "stdout"
        }
      ]
    },
    {
      "cell_type": "code",
      "metadata": {
        "id": "41avERlcA2Fu",
        "colab_type": "code",
        "colab": {
          "base_uri": "https://localhost:8080/",
          "height": 121
        },
        "outputId": "e6da7d76-86a0-4726-bb91-e221b9ffd2e7"
      },
      "source": [
        "def is_prime(n):\n",
        "    for i in range(2, n):\n",
        "        if n % i == 0:  # 整除，i 是 n 的因數，所以 n 不是質數。\n",
        "            return False\n",
        "    return True     # 都沒有人能整除，所以 n 是質數。\n",
        "\n",
        "n = int(input('Input a number: '))  # 得到輸入值 n。\n",
        "\n",
        "for i in range(2, n + 1):   # 產生 2 到 n 的數字。\n",
        "    i_is_prime = is_prime(i)    # 判斷 i 是否為質數。\n",
        "    if i_is_prime:              # 如果是，印出來。\n",
        "        print(i)"
      ],
      "execution_count": 29,
      "outputs": [
        {
          "output_type": "stream",
          "text": [
            "Input a number: 11\n",
            "2\n",
            "3\n",
            "5\n",
            "7\n",
            "11\n"
          ],
          "name": "stdout"
        }
      ]
    }
  ]
}