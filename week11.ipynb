{
  "nbformat": 4,
  "nbformat_minor": 0,
  "metadata": {
    "colab": {
      "name": "Untitled1.ipynb",
      "provenance": []
    },
    "kernelspec": {
      "name": "python3",
      "display_name": "Python 3"
    }
  },
  "cells": [
    {
      "cell_type": "code",
      "metadata": {
        "id": "blpcx6B9ZQsE",
        "colab_type": "code",
        "colab": {
          "base_uri": "https://localhost:8080/",
          "height": 35
        },
        "outputId": "3bbc1106-d8ac-495a-d53f-9d1fc9bc3176"
      },
      "source": [
        "primes_list = [2, 3, 5, 7, 11]\n",
        "primes_list[-1] = 13 # update\n",
        "print(primes_list)"
      ],
      "execution_count": 194,
      "outputs": [
        {
          "output_type": "stream",
          "text": [
            "[2, 3, 5, 7, 13]\n"
          ],
          "name": "stdout"
        }
      ]
    },
    {
      "cell_type": "code",
      "metadata": {
        "id": "pKtDnm0IZUDS",
        "colab_type": "code",
        "colab": {}
      },
      "source": [
        "primes_list.insert(-1, 11) # increase length\n",
        "print(primes_list)"
      ],
      "execution_count": 0,
      "outputs": []
    },
    {
      "cell_type": "code",
      "metadata": {
        "id": "-liPFFb9ZV-o",
        "colab_type": "code",
        "colab": {
          "base_uri": "https://localhost:8080/",
          "height": 35
        },
        "outputId": "72042e77-269d-4c00-8c69-7550fc6cf09f"
      },
      "source": [
        "\n",
        "primes_list.pop()\n",
        "print(primes_list)"
      ],
      "execution_count": 195,
      "outputs": [
        {
          "output_type": "stream",
          "text": [
            "[2, 3, 5, 7]\n"
          ],
          "name": "stdout"
        }
      ]
    },
    {
      "cell_type": "code",
      "metadata": {
        "id": "PbdPeekqZYnU",
        "colab_type": "code",
        "colab": {
          "base_uri": "https://localhost:8080/",
          "height": 69
        },
        "outputId": "956418a7-6bbc-4b5b-d668-39b360d10f9c"
      },
      "source": [
        "x = 0.25\n",
        "print(type(x))\n",
        "print(x.as_integer_ratio())\n",
        "print(type(x.as_integer_ratio()))"
      ],
      "execution_count": 196,
      "outputs": [
        {
          "output_type": "stream",
          "text": [
            "<class 'float'>\n",
            "(1, 4)\n",
            "<class 'tuple'>\n"
          ],
          "name": "stdout"
        }
      ]
    },
    {
      "cell_type": "code",
      "metadata": {
        "id": "4RHJb7CmZa_A",
        "colab_type": "code",
        "colab": {
          "base_uri": "https://localhost:8080/",
          "height": 52
        },
        "outputId": "1403499e-c247-4e21-c293-e7fbc6082321"
      },
      "source": [
        "\n",
        "def where_are_you_from(city, country):\n",
        "    return city, country\n",
        "\n",
        "print(where_are_you_from(\"Taipei\", \"Taiwan\"))\n",
        "print(type(where_are_you_from(\"Taipei\", \"Taiwan\")))"
      ],
      "execution_count": 197,
      "outputs": [
        {
          "output_type": "stream",
          "text": [
            "('Taipei', 'Taiwan')\n",
            "<class 'tuple'>\n"
          ],
          "name": "stdout"
        }
      ]
    },
    {
      "cell_type": "code",
      "metadata": {
        "id": "f2mF5gXWZiJR",
        "colab_type": "code",
        "colab": {
          "base_uri": "https://localhost:8080/",
          "height": 52
        },
        "outputId": "18b51fde-fe67-49bd-bb60-6a4d6564ebb0"
      },
      "source": [
        "my_city, my_country = where_are_you_from(\"Taipei\", \"Taiwan\")\n",
        "print(my_city)\n",
        "print(my_country)"
      ],
      "execution_count": 198,
      "outputs": [
        {
          "output_type": "stream",
          "text": [
            "Taipei\n",
            "Taiwan\n"
          ],
          "name": "stdout"
        }
      ]
    },
    {
      "cell_type": "code",
      "metadata": {
        "id": "gGLb2EgQZlnk",
        "colab_type": "code",
        "colab": {
          "base_uri": "https://localhost:8080/",
          "height": 52
        },
        "outputId": "706cc2b8-e806-4031-c7c3-02490ff554c5"
      },
      "source": [
        "living_area = input(\"請輸入您的居住縣市:\")\n",
        "living_cost = None\n",
        "if living_area == '臺北市':\n",
        "    living_cost = 17005\n",
        "elif living_area == '新北市':\n",
        "    living_cost = 15500\n",
        "elif living_area == '桃園市':\n",
        "    living_cost = 15281\n",
        "elif living_area == '臺中市':\n",
        "    living_cost = 14596\n",
        "elif living_area == '臺南市':\n",
        "    living_cost = 12388\n",
        "elif living_area == '高雄市':\n",
        "    living_cost = 13099\n",
        "elif living_area == '非六都之縣市':\n",
        "    living_cost = 12388\n",
        "elif living_area == '金門縣連江縣':\n",
        "    living_cost = 11648\n",
        "\n",
        "if living_cost is None:\n",
        "    print(\"請重新輸入居住縣市\")\n",
        "else:\n",
        "    print(\"{}的每人每月最低生活費為{:,}\".format(living_area, living_cost))"
      ],
      "execution_count": 199,
      "outputs": [
        {
          "output_type": "stream",
          "text": [
            "請輸入您的居住縣市:臺北市\n",
            "臺北市的每人每月最低生活費為17,005\n"
          ],
          "name": "stdout"
        }
      ]
    },
    {
      "cell_type": "code",
      "metadata": {
        "id": "gTY8BjElZrO0",
        "colab_type": "code",
        "colab": {
          "base_uri": "https://localhost:8080/",
          "height": 52
        },
        "outputId": "fd070967-bac3-4713-d2c9-bd076d4cec69"
      },
      "source": [
        "living_cost_dict = {\n",
        "    '臺北市': 17005,\n",
        "    '新北市': 15500,\n",
        "    '桃園市': 15281,\n",
        "    '臺中市': 14596,\n",
        "    '臺南市': 12388,\n",
        "    '高雄市': 13099,\n",
        "    '非六都之縣市': 12388,\n",
        "    '金門縣連江縣': 11648\n",
        "}\n",
        "living_area = input(\"請輸入您的居住縣市:\")\n",
        "try:\n",
        "    living_cost = living_cost_dict[living_area]\n",
        "    print(\"{}的每人每月最低生活費為{:,}\".format(living_area, living_cost))\n",
        "except KeyError:\n",
        "    print(\"請重新輸入居住縣市\")"
      ],
      "execution_count": 200,
      "outputs": [
        {
          "output_type": "stream",
          "text": [
            "請輸入您的居住縣市:新北市\n",
            "新北市的每人每月最低生活費為15,500\n"
          ],
          "name": "stdout"
        }
      ]
    },
    {
      "cell_type": "code",
      "metadata": {
        "id": "0eGZfShJZwZG",
        "colab_type": "code",
        "colab": {
          "base_uri": "https://localhost:8080/",
          "height": 35
        },
        "outputId": "045299d9-7816-4461-fdfc-a2b25c6d27b5"
      },
      "source": [
        "primes_list = [2, 3, 5, 7, 11]\n",
        "I = iter(primes_list)\n",
        "next(I)"
      ],
      "execution_count": 201,
      "outputs": [
        {
          "output_type": "execute_result",
          "data": {
            "text/plain": [
              "2"
            ]
          },
          "metadata": {
            "tags": []
          },
          "execution_count": 201
        }
      ]
    },
    {
      "cell_type": "code",
      "metadata": {
        "id": "fxwUq_meZych",
        "colab_type": "code",
        "colab": {
          "base_uri": "https://localhost:8080/",
          "height": 35
        },
        "outputId": "91ece2aa-d1a3-48cf-c189-902d4810a67c"
      },
      "source": [
        "\n",
        "I = iter(living_cost_dict.keys())\n",
        "next(I)"
      ],
      "execution_count": 202,
      "outputs": [
        {
          "output_type": "execute_result",
          "data": {
            "text/plain": [
              "'臺北市'"
            ]
          },
          "metadata": {
            "tags": []
          },
          "execution_count": 202
        }
      ]
    },
    {
      "cell_type": "code",
      "metadata": {
        "id": "066ldcswZ0y5",
        "colab_type": "code",
        "colab": {
          "base_uri": "https://localhost:8080/",
          "height": 35
        },
        "outputId": "e7e62f34-7779-442c-c95f-79e2839823d0"
      },
      "source": [
        "\n",
        "I = iter(living_cost_dict.items())\n",
        "next(I)"
      ],
      "execution_count": 203,
      "outputs": [
        {
          "output_type": "execute_result",
          "data": {
            "text/plain": [
              "('臺北市', 17005)"
            ]
          },
          "metadata": {
            "tags": []
          },
          "execution_count": 203
        }
      ]
    },
    {
      "cell_type": "code",
      "metadata": {
        "id": "xAZsmCT9Z3zU",
        "colab_type": "code",
        "colab": {
          "base_uri": "https://localhost:8080/",
          "height": 1000
        },
        "outputId": "93f536ef-b0b6-49aa-fabf-57c9784d975c"
      },
      "source": [
        "for i in range(1, 101, 1):\n",
        "    print(i)"
      ],
      "execution_count": 204,
      "outputs": [
        {
          "output_type": "stream",
          "text": [
            "1\n",
            "2\n",
            "3\n",
            "4\n",
            "5\n",
            "6\n",
            "7\n",
            "8\n",
            "9\n",
            "10\n",
            "11\n",
            "12\n",
            "13\n",
            "14\n",
            "15\n",
            "16\n",
            "17\n",
            "18\n",
            "19\n",
            "20\n",
            "21\n",
            "22\n",
            "23\n",
            "24\n",
            "25\n",
            "26\n",
            "27\n",
            "28\n",
            "29\n",
            "30\n",
            "31\n",
            "32\n",
            "33\n",
            "34\n",
            "35\n",
            "36\n",
            "37\n",
            "38\n",
            "39\n",
            "40\n",
            "41\n",
            "42\n",
            "43\n",
            "44\n",
            "45\n",
            "46\n",
            "47\n",
            "48\n",
            "49\n",
            "50\n",
            "51\n",
            "52\n",
            "53\n",
            "54\n",
            "55\n",
            "56\n",
            "57\n",
            "58\n",
            "59\n",
            "60\n",
            "61\n",
            "62\n",
            "63\n",
            "64\n",
            "65\n",
            "66\n",
            "67\n",
            "68\n",
            "69\n",
            "70\n",
            "71\n",
            "72\n",
            "73\n",
            "74\n",
            "75\n",
            "76\n",
            "77\n",
            "78\n",
            "79\n",
            "80\n",
            "81\n",
            "82\n",
            "83\n",
            "84\n",
            "85\n",
            "86\n",
            "87\n",
            "88\n",
            "89\n",
            "90\n",
            "91\n",
            "92\n",
            "93\n",
            "94\n",
            "95\n",
            "96\n",
            "97\n",
            "98\n",
            "99\n",
            "100\n"
          ],
          "name": "stdout"
        }
      ]
    }
  ]
}