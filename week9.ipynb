{
  "nbformat": 4,
  "nbformat_minor": 0,
  "metadata": {
    "colab": {
      "name": "Untitled1.ipynb",
      "provenance": []
    },
    "kernelspec": {
      "name": "python3",
      "display_name": "Python 3"
    }
  },
  "cells": [
    {
      "cell_type": "code",
      "metadata": {
        "id": "eZT8QOh1P_E7",
        "colab_type": "code",
        "colab": {
          "base_uri": "https://localhost:8080/",
          "height": 104
        },
        "outputId": "dcbe1454-f16f-431d-a768-d60a5a4b21e4"
      },
      "source": [
        "x = int(input(\"請輸入起始的整數:\"))\n",
        "y = int(input(\"請輸入終止的整數:\"))\n",
        "i = x # start\n",
        "while i <= y: # stop\n",
        "    # task\n",
        "    if i % 2 == 1:\n",
        "        print(i)\n",
        "    i += 1 # step"
      ],
      "execution_count": 122,
      "outputs": [
        {
          "output_type": "stream",
          "text": [
            "請輸入起始的整數:5\n",
            "請輸入終止的整數:10\n",
            "5\n",
            "7\n",
            "9\n"
          ],
          "name": "stdout"
        }
      ]
    },
    {
      "cell_type": "code",
      "metadata": {
        "id": "xLCNLiXbQDei",
        "colab_type": "code",
        "colab": {
          "base_uri": "https://localhost:8080/",
          "height": 87
        },
        "outputId": "a76b3e64-52ed-46a8-c59e-e044eef047b0"
      },
      "source": [
        "x = int(input(\"請輸入起始的整數:\"))\n",
        "y = int(input(\"請輸入終止的整數:\"))\n",
        "odd_counter = 0 # 歸零\n",
        "i = x # start\n",
        "while i <= y: # stop\n",
        "    # task\n",
        "    if i % 2 == 1:\n",
        "        #odd_counter = odd_counter + 1 # = NOT ==\n",
        "        odd_counter += 1 # 計數累計\n",
        "    #print(odd_counter)\n",
        "    i += 1 # step\n",
        "print(\"======\")\n",
        "print(odd_counter)"
      ],
      "execution_count": 123,
      "outputs": [
        {
          "output_type": "stream",
          "text": [
            "請輸入起始的整數:5\n",
            "請輸入終止的整數:10\n",
            "======\n",
            "3\n"
          ],
          "name": "stdout"
        }
      ]
    },
    {
      "cell_type": "code",
      "metadata": {
        "id": "mBCpQiBCQH3i",
        "colab_type": "code",
        "colab": {
          "base_uri": "https://localhost:8080/",
          "height": 87
        },
        "outputId": "bccda762-c6a0-4864-e89a-a23cd26259b1"
      },
      "source": [
        "x = int(input(\"請輸入起始的整數:\"))\n",
        "y = int(input(\"請輸入終止的整數:\"))\n",
        "odd_summation = 0 # 歸零\n",
        "i = x # start\n",
        "while i <= y: # stop\n",
        "    # task\n",
        "    if i % 2 == 1:\n",
        "        odd_summation = odd_summation + i # 數值累加\n",
        "    i += 1 # step\n",
        "print(\"======\")\n",
        "print(odd_summation)"
      ],
      "execution_count": 124,
      "outputs": [
        {
          "output_type": "stream",
          "text": [
            "請輸入起始的整數:5\n",
            "請輸入終止的整數:10\n",
            "======\n",
            "21\n"
          ],
          "name": "stdout"
        }
      ]
    },
    {
      "cell_type": "code",
      "metadata": {
        "id": "qoB9PkT8QMV2",
        "colab_type": "code",
        "colab": {
          "base_uri": "https://localhost:8080/",
          "height": 208
        },
        "outputId": "f2a59e6d-675e-4d2f-ea3d-6c77d06a5f09"
      },
      "source": [
        "x = int(input(\"請輸入起始的整數:\"))\n",
        "y = int(input(\"請輸入終止的整數:\"))\n",
        "odd_summation = 0 # 歸零\n",
        "odd_counter = 0\n",
        "i = x # start\n",
        "while i <= y: # stop\n",
        "    # task\n",
        "    if i % 2 == 1:\n",
        "        odd_counter += 1 # 計數累計\n",
        "        odd_summation += i # 數值累加\n",
        "        print(\"現在的整數是:{}, 奇數計數為{}個, 總和為{}\".format(i, odd_counter, odd_summation))\n",
        "    else:\n",
        "        print(\"現在的整數是:{}, 奇數計數為{}個, 總和為{}\".format(i, odd_counter, odd_summation))\n",
        "    i += 1 # step\n",
        "print(\"======\")\n",
        "print(odd_counter)\n",
        "print(odd_summation)"
      ],
      "execution_count": 125,
      "outputs": [
        {
          "output_type": "stream",
          "text": [
            "請輸入起始的整數:5\n",
            "請輸入終止的整數:10\n",
            "現在的整數是:5, 奇數計數為1個, 總和為5\n",
            "現在的整數是:6, 奇數計數為1個, 總和為5\n",
            "現在的整數是:7, 奇數計數為2個, 總和為12\n",
            "現在的整數是:8, 奇數計數為2個, 總和為12\n",
            "現在的整數是:9, 奇數計數為3個, 總和為21\n",
            "現在的整數是:10, 奇數計數為3個, 總和為21\n",
            "======\n",
            "3\n",
            "21\n"
          ],
          "name": "stdout"
        }
      ]
    },
    {
      "cell_type": "code",
      "metadata": {
        "id": "6VPhjozwQSEd",
        "colab_type": "code",
        "colab": {
          "base_uri": "https://localhost:8080/",
          "height": 364
        },
        "outputId": "5c89abbd-7300-4d8d-f412-b7db5b3d5f59"
      },
      "source": [
        "x = int(input(\"請輸入一個正整數:\"))\n",
        "i = 1 # start\n",
        "divisor_counter = 0 # 歸零\n",
        "while i <= x: # stop\n",
        "    if x % i == 0:\n",
        "        divisor_counter += 1\n",
        "        print(\"{}可以被{}整除\".format(x, i))\n",
        "        print(\"因數個數目前有{}個\".format(divisor_counter))\n",
        "        print(\"======\")\n",
        "    i += 1 # step\n",
        "print(\"### Answer ###\")\n",
        "print(\"總共執行了{}次迴圈\".format(i - 1))\n",
        "print(\"{}共有{}個因數\".format(x, divisor_counter))\n",
        "if divisor_counter == 2:\n",
        "    print(\"{}是質數\".format(x))\n",
        "else:\n",
        "    print(\"{}不是質數\".format(x))"
      ],
      "execution_count": 126,
      "outputs": [
        {
          "output_type": "stream",
          "text": [
            "請輸入一個正整數:16\n",
            "16可以被1整除\n",
            "因數個數目前有1個\n",
            "======\n",
            "16可以被2整除\n",
            "因數個數目前有2個\n",
            "======\n",
            "16可以被4整除\n",
            "因數個數目前有3個\n",
            "======\n",
            "16可以被8整除\n",
            "因數個數目前有4個\n",
            "======\n",
            "16可以被16整除\n",
            "因數個數目前有5個\n",
            "======\n",
            "### Answer ###\n",
            "總共執行了16次迴圈\n",
            "16共有5個因數\n",
            "16不是質數\n"
          ],
          "name": "stdout"
        }
      ]
    },
    {
      "cell_type": "code",
      "metadata": {
        "id": "kpdCKBEqQWqH",
        "colab_type": "code",
        "colab": {
          "base_uri": "https://localhost:8080/",
          "height": 191
        },
        "outputId": "845b7dfb-b2ee-4d80-a96d-ec391da64619"
      },
      "source": [
        "x = int(input(\"請輸入一個正整數:\"))\n",
        "i = 1 # start\n",
        "divisor_counter = 0 # 歸零\n",
        "while i <= x: # stop\n",
        "    if x % i == 0:\n",
        "        divisor_counter += 1\n",
        "        print(\"{}可以被{}整除\".format(x, i))\n",
        "        print(\"因數個數目前有{}個\".format(divisor_counter))\n",
        "        print(\"======\")\n",
        "    i += 1 # step\n",
        "    if divisor_counter > 2:\n",
        "        break\n",
        "print(\"### Answer ###\")\n",
        "print(\"總共執行了{}次迴圈\".format(i - 1))\n",
        "if divisor_counter == 2:\n",
        "    print(\"{}是質數\".format(x))\n",
        "else:\n",
        "    print(\"{}不是質數\".format(x))"
      ],
      "execution_count": 127,
      "outputs": [
        {
          "output_type": "stream",
          "text": [
            "請輸入一個正整數:11\n",
            "11可以被1整除\n",
            "因數個數目前有1個\n",
            "======\n",
            "11可以被11整除\n",
            "因數個數目前有2個\n",
            "======\n",
            "### Answer ###\n",
            "總共執行了11次迴圈\n",
            "11是質數\n"
          ],
          "name": "stdout"
        }
      ]
    },
    {
      "cell_type": "code",
      "metadata": {
        "id": "bB8Dzv_-Qcwp",
        "colab_type": "code",
        "colab": {
          "base_uri": "https://localhost:8080/",
          "height": 1000
        },
        "outputId": "86987745-07e6-4ccf-c002-a3d0159d486d"
      },
      "source": [
        "\n",
        "i = 1 # start\n",
        "while i <= 100: # stop\n",
        "    if i % 15 == 0:\n",
        "        print(\"Fizz Buzz\")\n",
        "    elif i % 3 == 0:\n",
        "        print(\"Fizz\")\n",
        "    elif i % 5 == 0:\n",
        "        print(\"Buzz\")\n",
        "    else:\n",
        "        print(i)\n",
        "    i += 1 # step"
      ],
      "execution_count": 128,
      "outputs": [
        {
          "output_type": "stream",
          "text": [
            "1\n",
            "2\n",
            "Fizz\n",
            "4\n",
            "Buzz\n",
            "Fizz\n",
            "7\n",
            "8\n",
            "Fizz\n",
            "Buzz\n",
            "11\n",
            "Fizz\n",
            "13\n",
            "14\n",
            "Fizz Buzz\n",
            "16\n",
            "17\n",
            "Fizz\n",
            "19\n",
            "Buzz\n",
            "Fizz\n",
            "22\n",
            "23\n",
            "Fizz\n",
            "Buzz\n",
            "26\n",
            "Fizz\n",
            "28\n",
            "29\n",
            "Fizz Buzz\n",
            "31\n",
            "32\n",
            "Fizz\n",
            "34\n",
            "Buzz\n",
            "Fizz\n",
            "37\n",
            "38\n",
            "Fizz\n",
            "Buzz\n",
            "41\n",
            "Fizz\n",
            "43\n",
            "44\n",
            "Fizz Buzz\n",
            "46\n",
            "47\n",
            "Fizz\n",
            "49\n",
            "Buzz\n",
            "Fizz\n",
            "52\n",
            "53\n",
            "Fizz\n",
            "Buzz\n",
            "56\n",
            "Fizz\n",
            "58\n",
            "59\n",
            "Fizz Buzz\n",
            "61\n",
            "62\n",
            "Fizz\n",
            "64\n",
            "Buzz\n",
            "Fizz\n",
            "67\n",
            "68\n",
            "Fizz\n",
            "Buzz\n",
            "71\n",
            "Fizz\n",
            "73\n",
            "74\n",
            "Fizz Buzz\n",
            "76\n",
            "77\n",
            "Fizz\n",
            "79\n",
            "Buzz\n",
            "Fizz\n",
            "82\n",
            "83\n",
            "Fizz\n",
            "Buzz\n",
            "86\n",
            "Fizz\n",
            "88\n",
            "89\n",
            "Fizz Buzz\n",
            "91\n",
            "92\n",
            "Fizz\n",
            "94\n",
            "Buzz\n",
            "Fizz\n",
            "97\n",
            "98\n",
            "Fizz\n",
            "Buzz\n"
          ],
          "name": "stdout"
        }
      ]
    }
  ]
}