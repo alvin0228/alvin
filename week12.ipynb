{
  "nbformat": 4,
  "nbformat_minor": 0,
  "metadata": {
    "colab": {
      "name": "Untitled1.ipynb",
      "provenance": []
    },
    "kernelspec": {
      "name": "python3",
      "display_name": "Python 3"
    }
  },
  "cells": [
    {
      "cell_type": "code",
      "metadata": {
        "id": "xHiqPXWldOa5",
        "colab_type": "code",
        "colab": {
          "base_uri": "https://localhost:8080/",
          "height": 919
        },
        "outputId": "4622e894-7201-47ee-c983-9dab4bd16b04"
      },
      "source": [
        "x = int(input(\"請輸入起始的正整數：\")) \n",
        "y = int(input(\"請輸入終止的正整數：\"))\n",
        "for i in range(x, y+1):\n",
        "  print(i)"
      ],
      "execution_count": 220,
      "outputs": [
        {
          "output_type": "stream",
          "text": [
            "請輸入起始的正整數：1\n",
            "請輸入終止的正整數：50\n",
            "1\n",
            "2\n",
            "3\n",
            "4\n",
            "5\n",
            "6\n",
            "7\n",
            "8\n",
            "9\n",
            "10\n",
            "11\n",
            "12\n",
            "13\n",
            "14\n",
            "15\n",
            "16\n",
            "17\n",
            "18\n",
            "19\n",
            "20\n",
            "21\n",
            "22\n",
            "23\n",
            "24\n",
            "25\n",
            "26\n",
            "27\n",
            "28\n",
            "29\n",
            "30\n",
            "31\n",
            "32\n",
            "33\n",
            "34\n",
            "35\n",
            "36\n",
            "37\n",
            "38\n",
            "39\n",
            "40\n",
            "41\n",
            "42\n",
            "43\n",
            "44\n",
            "45\n",
            "46\n",
            "47\n",
            "48\n",
            "49\n",
            "50\n"
          ],
          "name": "stdout"
        }
      ]
    },
    {
      "cell_type": "code",
      "metadata": {
        "id": "Zku7ohrCdRg5",
        "colab_type": "code",
        "colab": {
          "base_uri": "https://localhost:8080/",
          "height": 69
        },
        "outputId": "f32f3a9a-9ba9-4b21-d51b-3bcb999336d1"
      },
      "source": [
        "\n",
        "x = int(input(\"請輸入起始的正整數：\")) \n",
        "y = int(input(\"請輸入終止的正整數：\"))\n",
        "odds = [] # 空的list\n",
        "for i in range(x, y+1):\n",
        "  mod = i % 2\n",
        "  if mod == 1:\n",
        "    odds.append(i)\n",
        "print(odds)"
      ],
      "execution_count": 221,
      "outputs": [
        {
          "output_type": "stream",
          "text": [
            "請輸入起始的正整數：10\n",
            "請輸入終止的正整數：80\n",
            "[11, 13, 15, 17, 19, 21, 23, 25, 27, 29, 31, 33, 35, 37, 39, 41, 43, 45, 47, 49, 51, 53, 55, 57, 59, 61, 63, 65, 67, 69, 71, 73, 75, 77, 79]\n"
          ],
          "name": "stdout"
        }
      ]
    },
    {
      "cell_type": "code",
      "metadata": {
        "id": "cOJcZPasdV0k",
        "colab_type": "code",
        "colab": {
          "base_uri": "https://localhost:8080/",
          "height": 69
        },
        "outputId": "8180f474-350e-48c7-ae32-43b6742037b5"
      },
      "source": [
        "\n",
        "user_int = int(input(\"請輸入一個正整數：\"))\n",
        "divisors = [] # 因數分解\n",
        "for i in range(1, user_int+1):\n",
        "  if user_int % 1 == 0:\n",
        "    divisors.append(i)\n",
        "print(divisors)\n",
        "n_divisors = len(divisors)\n",
        "if n_divisors == 2 :\n",
        "  print(\"{}是質數\".format(user_int))\n",
        "else:\n",
        "  print(\"{}不是質數\".format(user_int))"
      ],
      "execution_count": 222,
      "outputs": [
        {
          "output_type": "stream",
          "text": [
            "請輸入一個正整數：30\n",
            "[1, 2, 3, 4, 5, 6, 7, 8, 9, 10, 11, 12, 13, 14, 15, 16, 17, 18, 19, 20, 21, 22, 23, 24, 25, 26, 27, 28, 29, 30]\n",
            "30不是質數\n"
          ],
          "name": "stdout"
        }
      ]
    },
    {
      "cell_type": "code",
      "metadata": {
        "id": "NpIWvx7Idc6A",
        "colab_type": "code",
        "colab": {
          "base_uri": "https://localhost:8080/",
          "height": 159
        },
        "outputId": "9b13e926-929d-41cb-ec37-ec92f69b2d69"
      },
      "source": [
        "\n",
        "# random 產生 1 個隨機數\n",
        "import random\n",
        "\n",
        "random.randint(1, 1000)\n",
        "# random 產生 100 個隨機數\n",
        "random_integers = [] # 隨機數\n",
        "for i in range(100): # 產生個數\n",
        "  rand_int = random.randint(1, 1000) # 範圍\n",
        "  random_integers.append(rand_int)\n",
        "print(random_integers)\n",
        "print(len(random_integers))\n",
        "# 找出第一大與第一小的數字\n",
        "print(max(random_integers))\n",
        "print(min(random_integers))\n",
        "# 找出第二大與第二小的數字\n",
        "rand_int_unique = set(random_integers)\n",
        "rand_int_unique_list = list(rand_int_unique)\n",
        "print(rand_int_unique_list)\n",
        "rand_int_unique_list.sort()\n",
        "print(rand_int_unique_list[1]) # second min\n",
        "print(rand_int_unique_list[-2]) # second max"
      ],
      "execution_count": 223,
      "outputs": [
        {
          "output_type": "stream",
          "text": [
            "[52, 123, 23, 561, 405, 532, 523, 744, 397, 884, 603, 152, 352, 324, 251, 157, 130, 354, 237, 993, 939, 238, 414, 500, 654, 483, 395, 807, 498, 651, 50, 169, 459, 282, 820, 384, 885, 518, 489, 859, 155, 141, 403, 730, 857, 361, 197, 14, 471, 771, 973, 440, 818, 8, 591, 102, 105, 740, 686, 765, 102, 112, 22, 651, 43, 898, 502, 663, 833, 46, 354, 816, 997, 25, 282, 697, 553, 371, 492, 195, 622, 999, 548, 3, 817, 767, 767, 294, 402, 312, 929, 283, 633, 536, 974, 758, 115, 587, 887, 749]\n",
            "100\n",
            "999\n",
            "3\n",
            "[3, 518, 8, 523, 14, 532, 22, 23, 536, 25, 548, 553, 43, 46, 561, 50, 52, 587, 591, 603, 102, 105, 622, 112, 115, 633, 123, 130, 651, 141, 654, 663, 152, 155, 157, 169, 686, 697, 195, 197, 730, 740, 744, 237, 238, 749, 758, 251, 765, 767, 771, 282, 283, 294, 807, 816, 817, 818, 820, 312, 833, 324, 857, 859, 352, 354, 361, 371, 884, 885, 887, 384, 898, 395, 397, 402, 403, 405, 414, 929, 939, 440, 459, 973, 974, 471, 993, 483, 997, 999, 489, 492, 498, 500, 502]\n",
            "8\n",
            "997\n"
          ],
          "name": "stdout"
        }
      ]
    },
    {
      "cell_type": "code",
      "metadata": {
        "id": "YxAbnkQfdg2n",
        "colab_type": "code",
        "colab": {
          "base_uri": "https://localhost:8080/",
          "height": 35
        },
        "outputId": "a66a2be0-c880-49a2-be18-ed2fca673424"
      },
      "source": [
        "squared = []\n",
        "for i in range(10):\n",
        "  squared.append(i**2)\n",
        "print(squared)"
      ],
      "execution_count": 224,
      "outputs": [
        {
          "output_type": "stream",
          "text": [
            "[0, 1, 4, 9, 16, 25, 36, 49, 64, 81]\n"
          ],
          "name": "stdout"
        }
      ]
    },
    {
      "cell_type": "code",
      "metadata": {
        "id": "Krh5aOJBdjZk",
        "colab_type": "code",
        "colab": {
          "base_uri": "https://localhost:8080/",
          "height": 35
        },
        "outputId": "4d0d01eb-b6f7-4457-bab4-b24daf062150"
      },
      "source": [
        "\n",
        "squared = [i**2 for i in range(10)] \n",
        "print(squared)"
      ],
      "execution_count": 225,
      "outputs": [
        {
          "output_type": "stream",
          "text": [
            "[0, 1, 4, 9, 16, 25, 36, 49, 64, 81]\n"
          ],
          "name": "stdout"
        }
      ]
    },
    {
      "cell_type": "code",
      "metadata": {
        "id": "eYwO_eo1dl0A",
        "colab_type": "code",
        "colab": {
          "base_uri": "https://localhost:8080/",
          "height": 35
        },
        "outputId": "b02f6cb7-dc20-4420-e83a-a13f1a18b69e"
      },
      "source": [
        "odds_squared = []\n",
        "for i in range(10):\n",
        "  if i % 2 == 1:\n",
        "    odds_squared.append(i**2)\n",
        "print(odds_squared)"
      ],
      "execution_count": 226,
      "outputs": [
        {
          "output_type": "stream",
          "text": [
            "[1, 9, 25, 49, 81]\n"
          ],
          "name": "stdout"
        }
      ]
    },
    {
      "cell_type": "code",
      "metadata": {
        "id": "qgTd7LjvdrLm",
        "colab_type": "code",
        "colab": {
          "base_uri": "https://localhost:8080/",
          "height": 35
        },
        "outputId": "54806826-f682-474e-adcd-a88e64d98b2e"
      },
      "source": [
        "\n",
        "odds_squared =[i**2 for i in range(10) if i % 2 == 1]\n",
        "print(odds_squared)"
      ],
      "execution_count": 228,
      "outputs": [
        {
          "output_type": "stream",
          "text": [
            "[1, 9, 25, 49, 81]\n"
          ],
          "name": "stdout"
        }
      ]
    },
    {
      "cell_type": "code",
      "metadata": {
        "id": "emzhG2WQdu1m",
        "colab_type": "code",
        "colab": {
          "base_uri": "https://localhost:8080/",
          "height": 52
        },
        "outputId": "7dc19396-1071-4bf7-da29-d264a93bc60a"
      },
      "source": [
        "random_integers = [random.randint(1, 100) for i in range(10)]\n",
        "is_odd_ints = []\n",
        "for i in random_integers:\n",
        "  if i % 2 == 1:\n",
        "    is_odd_ints.append(True)\n",
        "  else:\n",
        "    is_odd_ints.append(False)\n",
        "print(random_integers)\n",
        "print(is_odd_ints)"
      ],
      "execution_count": 229,
      "outputs": [
        {
          "output_type": "stream",
          "text": [
            "[37, 46, 61, 43, 42, 18, 88, 99, 62, 15]\n",
            "[True, False, True, True, False, False, False, True, False, True]\n"
          ],
          "name": "stdout"
        }
      ]
    },
    {
      "cell_type": "code",
      "metadata": {
        "id": "7jQH90RZdw2m",
        "colab_type": "code",
        "colab": {
          "base_uri": "https://localhost:8080/",
          "height": 52
        },
        "outputId": "207a9593-b04f-4af5-8401-e79323d53329"
      },
      "source": [
        "random_integers = [random.randint(1, 100) for i in range(20)]\n",
        "is_odd_ints = [True if i % 2 == 1 else False for i in random_integers]\n",
        "print(random_integers)\n",
        "print(is_odd_ints)"
      ],
      "execution_count": 230,
      "outputs": [
        {
          "output_type": "stream",
          "text": [
            "[54, 28, 52, 94, 78, 10, 39, 23, 31, 73, 100, 94, 53, 38, 44, 54, 36, 45, 99, 41]\n",
            "[False, False, False, False, False, False, True, True, True, True, False, False, True, False, False, False, False, True, True, True]\n"
          ],
          "name": "stdout"
        }
      ]
    },
    {
      "cell_type": "code",
      "metadata": {
        "id": "DtOhm0PCdy-2",
        "colab_type": "code",
        "colab": {
          "base_uri": "https://localhost:8080/",
          "height": 35
        },
        "outputId": "a58359db-6634-46b0-ebaa-fba3d4ae08a4"
      },
      "source": [
        "avengers_ratings = [8.1, 7.3, 8.5, 8.8] \n",
        "recommendations = [i for i in avengers_ratings if i >= 8] \n",
        "print(recommendations)"
      ],
      "execution_count": 231,
      "outputs": [
        {
          "output_type": "stream",
          "text": [
            "[8.1, 8.5, 8.8]\n"
          ],
          "name": "stdout"
        }
      ]
    },
    {
      "cell_type": "code",
      "metadata": {
        "id": "H8Si7961d1R4",
        "colab_type": "code",
        "colab": {
          "base_uri": "https://localhost:8080/",
          "height": 87
        },
        "outputId": "94e71bb4-437c-4982-f112-5c2bac51d4ff"
      },
      "source": [
        "\n",
        "avengers = [\"The Avengers\", \"Avengers: Age of Ultron\", \"Avengers: Infinity War\", \"Avengers: Endgame\"]\n",
        "for idx, movie in enumerate(avengers):\n",
        "    print(\"第 {} 部上映的復仇者聯盟電影:{}\".format(idx+1, movie))"
      ],
      "execution_count": 232,
      "outputs": [
        {
          "output_type": "stream",
          "text": [
            "第 1 部上映的復仇者聯盟電影:The Avengers\n",
            "第 2 部上映的復仇者聯盟電影:Avengers: Age of Ultron\n",
            "第 3 部上映的復仇者聯盟電影:Avengers: Infinity War\n",
            "第 4 部上映的復仇者聯盟電影:Avengers: Endgame\n"
          ],
          "name": "stdout"
        }
      ]
    },
    {
      "cell_type": "code",
      "metadata": {
        "id": "xsMYx6qyd3XK",
        "colab_type": "code",
        "colab": {
          "base_uri": "https://localhost:8080/",
          "height": 87
        },
        "outputId": "67d9e901-81d5-4cb1-d731-4e31aaa45560"
      },
      "source": [
        "\n",
        "years = [2012, 2015, 2018, 2019]\n",
        "for year, movie in zip(years, avengers):\n",
        "    print(\"{}上映的年份是{}\".format(movie, year))"
      ],
      "execution_count": 233,
      "outputs": [
        {
          "output_type": "stream",
          "text": [
            "The Avengers上映的年份是2012\n",
            "Avengers: Age of Ultron上映的年份是2015\n",
            "Avengers: Infinity War上映的年份是2018\n",
            "Avengers: Endgame上映的年份是2019\n"
          ],
          "name": "stdout"
        }
      ]
    }
  ]
}