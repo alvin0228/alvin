{
  "nbformat": 4,
  "nbformat_minor": 0,
  "metadata": {
    "colab": {
      "name": "Untitled1.ipynb",
      "provenance": []
    },
    "kernelspec": {
      "name": "python3",
      "display_name": "Python 3"
    }
  },
  "cells": [
    {
      "cell_type": "code",
      "metadata": {
        "id": "IbUx0mC3hD9J",
        "colab_type": "code",
        "colab": {
          "base_uri": "https://localhost:8080/",
          "height": 121
        },
        "outputId": "73ac7231-f763-47d9-f883-1f022d10de37"
      },
      "source": [
        "\n",
        "n_vowels = 0\n",
        "for i in 'azcbobobegghakl':\n",
        "  if i in ['a','e','i','o','u']:\n",
        "    print(i)\n",
        "    n_vowels +=1\n",
        "print(n_vowels)"
      ],
      "execution_count": 248,
      "outputs": [
        {
          "output_type": "stream",
          "text": [
            "a\n",
            "o\n",
            "o\n",
            "e\n",
            "a\n",
            "5\n"
          ],
          "name": "stdout"
        }
      ]
    },
    {
      "cell_type": "code",
      "metadata": {
        "id": "dR1u2O5dhISN",
        "colab_type": "code",
        "colab": {
          "base_uri": "https://localhost:8080/",
          "height": 243
        },
        "outputId": "b1d902e9-7b61-4be1-9eb4-9da25375615e"
      },
      "source": [
        "test_str = 'azcbobobegghakl'\n",
        "n_char = len(test_str)\n",
        "print(n_char)\n",
        "for i in range(12):\n",
        "  print(test_str[i:i+3])"
      ],
      "execution_count": 249,
      "outputs": [
        {
          "output_type": "stream",
          "text": [
            "15\n",
            "azc\n",
            "zcb\n",
            "cbo\n",
            "bob\n",
            "obo\n",
            "bob\n",
            "obe\n",
            "beg\n",
            "egg\n",
            "ggh\n",
            "gha\n",
            "hak\n"
          ],
          "name": "stdout"
        }
      ]
    },
    {
      "cell_type": "code",
      "metadata": {
        "id": "QIk2hpMnhKtg",
        "colab_type": "code",
        "colab": {
          "base_uri": "https://localhost:8080/",
          "height": 35
        },
        "outputId": "a6298bd2-a8f4-42ab-f52d-c2b2e4a3f2e4"
      },
      "source": [
        "test_str = 'azcbobobegghak'\n",
        "n_char = len(test_str)\n",
        "n_bobs = 0\n",
        "for i in range(n_char - 2):\n",
        "    #print(test_str[i:i+3])\n",
        "    if test_str[i:i+3] == 'bob':\n",
        "        n_bobs += 1\n",
        "print(n_bobs)"
      ],
      "execution_count": 250,
      "outputs": [
        {
          "output_type": "stream",
          "text": [
            "2\n"
          ],
          "name": "stdout"
        }
      ]
    },
    {
      "cell_type": "code",
      "metadata": {
        "id": "RUQvGEughNvT",
        "colab_type": "code",
        "colab": {
          "base_uri": "https://localhost:8080/",
          "height": 35
        },
        "outputId": "553e1e2a-74a4-42e1-d6df-3afb4627e1c1"
      },
      "source": [
        "x = list(range(1, 101))\n",
        "N = len(x)\n",
        "x_bar = sum(x) / N\n",
        "sse = 0\n",
        "for xi in x:\n",
        "  # error = xi - x_bar\n",
        "  squared_error = (xi - x_bar)**2\n",
        "  sse += squared_error # sse = sse + squared_error\n",
        "sample_mse = sse / (N-1)\n",
        "sample_stdev = sample_mse**(0.5)\n",
        "print(sample_stdev)"
      ],
      "execution_count": 251,
      "outputs": [
        {
          "output_type": "stream",
          "text": [
            "29.011491975882016\n"
          ],
          "name": "stdout"
        }
      ]
    },
    {
      "cell_type": "code",
      "metadata": {
        "id": "67saWlrRhPuf",
        "colab_type": "code",
        "colab": {}
      },
      "source": [
        "def get_fahrenheit(x):\n",
        "    \"\"\"\n",
        "    Transform a Celsius degree into  Farenheit scale\n",
        "    \"\"\"\n",
        "    fah = x * 9/5 + 32\n",
        "    return fah"
      ],
      "execution_count": 0,
      "outputs": []
    },
    {
      "cell_type": "code",
      "metadata": {
        "id": "TWMZgEC8hSGl",
        "colab_type": "code",
        "colab": {
          "base_uri": "https://localhost:8080/",
          "height": 35
        },
        "outputId": "7a2d6d10-3de0-4a6e-e175-6f8ab64cf4b9"
      },
      "source": [
        "get_fahrenheit(32)"
      ],
      "execution_count": 253,
      "outputs": [
        {
          "output_type": "execute_result",
          "data": {
            "text/plain": [
              "89.6"
            ]
          },
          "metadata": {
            "tags": []
          },
          "execution_count": 253
        }
      ]
    },
    {
      "cell_type": "code",
      "metadata": {
        "id": "zSDOHxiJhVK9",
        "colab_type": "code",
        "colab": {}
      },
      "source": [
        "def get_bmi(height, weight):\n",
        "    \"\"\"\n",
        "    Calculate BMI based on height and weight\n",
        "    \"\"\"\n",
        "    height = height / 100\n",
        "    bmi = weight / height**2\n",
        "    return bmi"
      ],
      "execution_count": 0,
      "outputs": []
    },
    {
      "cell_type": "code",
      "metadata": {
        "id": "s_Anq63GhXSo",
        "colab_type": "code",
        "colab": {
          "base_uri": "https://localhost:8080/",
          "height": 35
        },
        "outputId": "b4bc7528-d846-474d-9220-5cec5690e391"
      },
      "source": [
        "get_bmi(180, 77)"
      ],
      "execution_count": 255,
      "outputs": [
        {
          "output_type": "execute_result",
          "data": {
            "text/plain": [
              "23.76543209876543"
            ]
          },
          "metadata": {
            "tags": []
          },
          "execution_count": 255
        }
      ]
    },
    {
      "cell_type": "code",
      "metadata": {
        "id": "ddwJqwxuhZRp",
        "colab_type": "code",
        "colab": {}
      },
      "source": [
        "def is_prime(x):\n",
        "  \"\"\"\n",
        "  Retuen True if x is a prime, or return False\n",
        "  \"\"\"\n",
        "  divisors = []\n",
        "  for i in range(1, x+1):\n",
        "    if x % i ==0:\n",
        "      divisors.append(i)\n",
        "  n_divisors = len(divisors)\n",
        "  return n_divisors == 2"
      ],
      "execution_count": 0,
      "outputs": []
    },
    {
      "cell_type": "code",
      "metadata": {
        "id": "Qj74kRh1hbNu",
        "colab_type": "code",
        "colab": {
          "base_uri": "https://localhost:8080/",
          "height": 35
        },
        "outputId": "c788cdcf-6fad-4b90-983d-64957f6df74a"
      },
      "source": [
        "is_prime(11)"
      ],
      "execution_count": 257,
      "outputs": [
        {
          "output_type": "execute_result",
          "data": {
            "text/plain": [
              "True"
            ]
          },
          "metadata": {
            "tags": []
          },
          "execution_count": 257
        }
      ]
    },
    {
      "cell_type": "code",
      "metadata": {
        "id": "kDrA_mDLhdBL",
        "colab_type": "code",
        "colab": {
          "base_uri": "https://localhost:8080/",
          "height": 35
        },
        "outputId": "ec0d6dfc-8dd8-4355-9989-5b8b13e58440"
      },
      "source": [
        "is_prime(9)"
      ],
      "execution_count": 258,
      "outputs": [
        {
          "output_type": "execute_result",
          "data": {
            "text/plain": [
              "False"
            ]
          },
          "metadata": {
            "tags": []
          },
          "execution_count": 258
        }
      ]
    },
    {
      "cell_type": "code",
      "metadata": {
        "id": "t75jUXnhhe55",
        "colab_type": "code",
        "colab": {
          "base_uri": "https://localhost:8080/",
          "height": 35
        },
        "outputId": "5ab5e302-e4ac-4569-a631-54fc925ac50d"
      },
      "source": [
        "\n",
        "is_prime(91)"
      ],
      "execution_count": 259,
      "outputs": [
        {
          "output_type": "execute_result",
          "data": {
            "text/plain": [
              "False"
            ]
          },
          "metadata": {
            "tags": []
          },
          "execution_count": 259
        }
      ]
    },
    {
      "cell_type": "code",
      "metadata": {
        "id": "C9IDk8zihhJI",
        "colab_type": "code",
        "colab": {
          "base_uri": "https://localhost:8080/",
          "height": 35
        },
        "outputId": "ee144133-1a00-4778-bf58-5af6f443983b"
      },
      "source": [
        "is_prime(23)"
      ],
      "execution_count": 260,
      "outputs": [
        {
          "output_type": "execute_result",
          "data": {
            "text/plain": [
              "True"
            ]
          },
          "metadata": {
            "tags": []
          },
          "execution_count": 260
        }
      ]
    }
  ]
}