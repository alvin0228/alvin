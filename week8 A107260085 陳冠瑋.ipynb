{
  "nbformat": 4,
  "nbformat_minor": 0,
  "metadata": {
    "colab": {
      "name": "Untitled6.ipynb",
      "provenance": [],
      "authorship_tag": "ABX9TyNdlOypeNvBXNqlveNjGNGF",
      "include_colab_link": true
    },
    "kernelspec": {
      "name": "python3",
      "display_name": "Python 3"
    }
  },
  "cells": [
    {
      "cell_type": "markdown",
      "metadata": {
        "id": "view-in-github",
        "colab_type": "text"
      },
      "source": [
        "<a href=\"https://colab.research.google.com/github/alvin0228/alvin/blob/master/week8%20A107260085%20%E9%99%B3%E5%86%A0%E7%91%8B.ipynb\" target=\"_parent\"><img src=\"https://colab.research.google.com/assets/colab-badge.svg\" alt=\"Open In Colab\"/></a>"
      ]
    },
    {
      "cell_type": "code",
      "metadata": {
        "id": "Yy7wF3QcAMIH",
        "colab_type": "code",
        "colab": {
          "base_uri": "https://localhost:8080/",
          "height": 87
        },
        "outputId": "b25d4e31-799d-42a6-b247-649159e1b092"
      },
      "source": [
        "\n",
        "player_height = float(input(\"請輸入球員身高(公尺):\"))\n",
        "player_weight = float(input(\"請輸入球員體重(公斤):\"))\n",
        "player_bmi = player_weight / player_height**2\n",
        "bmi_label = None\n",
        "if player_bmi > 30:\n",
        "    bmi_label = 'Obese'\n",
        "if player_bmi <= 30 and player_bmi > 25:\n",
        "    bmi_label = 'Overweight'\n",
        "if player_bmi <= 25 and player_bmi > 18.5:\n",
        "    bmi_label = 'Normal weight'\n",
        "if player_bmi <= 18.5:\n",
        "    bmi_label = 'Underweight'\n",
        "print(player_bmi)\n",
        "print(bmi_label)"
      ],
      "execution_count": 19,
      "outputs": [
        {
          "output_type": "stream",
          "text": [
            "請輸入球員身高(公尺):2\n",
            "請輸入球員體重(公斤):80\n",
            "20.0\n",
            "Normal weight\n"
          ],
          "name": "stdout"
        }
      ]
    },
    {
      "cell_type": "code",
      "metadata": {
        "id": "9_oE5B28AMSd",
        "colab_type": "code",
        "colab": {
          "base_uri": "https://localhost:8080/",
          "height": 87
        },
        "outputId": "19381836-913e-452d-98dd-f7e1e7b07e0d"
      },
      "source": [
        "player_height = float(input(\"請輸入球員身高(公尺):\"))\n",
        "player_weight = float(input(\"請輸入球員體重(公斤):\"))\n",
        "player_bmi = player_weight / player_height**2\n",
        "bmi_label = None\n",
        "if player_bmi > 30:\n",
        "    bmi_label = 'Obese'\n",
        "if player_bmi <= 30 and player_bmi > 25:\n",
        "    bmi_label = 'Overweight'\n",
        "if player_bmi <= 25 and player_bmi > 18.5:\n",
        "    bmi_label = 'Normal weight'\n",
        "if player_bmi <= 18.5:\n",
        "    bmi_label = 'Underweight'\n",
        "print(player_bmi)\n",
        "print(bmi_label)"
      ],
      "execution_count": 20,
      "outputs": [
        {
          "output_type": "stream",
          "text": [
            "請輸入球員身高(公尺):1.7\n",
            "請輸入球員體重(公斤):100\n",
            "34.602076124567475\n",
            "Obese\n"
          ],
          "name": "stdout"
        }
      ]
    },
    {
      "cell_type": "code",
      "metadata": {
        "id": "xJbjvTunAMfr",
        "colab_type": "code",
        "colab": {
          "base_uri": "https://localhost:8080/",
          "height": 52
        },
        "outputId": "5719a1c1-3462-4b76-acec-576e316fc974"
      },
      "source": [
        "\n",
        "user_int = int(input(\"請輸入一個正整數:\"))\n",
        "if user_int % 3 == 0:\n",
        "    print(\"Fizz\")\n",
        "if user_int % 5 == 0:\n",
        "    print(\"Buzz\")"
      ],
      "execution_count": 21,
      "outputs": [
        {
          "output_type": "stream",
          "text": [
            "請輸入一個正整數:3\n",
            "Fizz\n"
          ],
          "name": "stdout"
        }
      ]
    },
    {
      "cell_type": "code",
      "metadata": {
        "id": "zIjabwCoAaGU",
        "colab_type": "code",
        "colab": {
          "base_uri": "https://localhost:8080/",
          "height": 52
        },
        "outputId": "0a4ec603-8a4d-458b-a8e1-0d7b7818289a"
      },
      "source": [
        "\n",
        "user_int = int(input(\"請輸入一個正整數:\"))\n",
        "if user_int % 3 == 0:\n",
        "    print(\"Fizz\")\n",
        "if user_int % 5 == 0:\n",
        "    print(\"Buzz\")"
      ],
      "execution_count": 22,
      "outputs": [
        {
          "output_type": "stream",
          "text": [
            "請輸入一個正整數:5\n",
            "Buzz\n"
          ],
          "name": "stdout"
        }
      ]
    },
    {
      "cell_type": "code",
      "metadata": {
        "id": "Dt_cOo4jAfTQ",
        "colab_type": "code",
        "colab": {
          "base_uri": "https://localhost:8080/",
          "height": 69
        },
        "outputId": "e1f665c9-32a9-4d0a-b62e-ce4c4f442112"
      },
      "source": [
        "user_int = int(input(\"請輸入一個正整數:\"))\n",
        "if user_int % 3 == 0:\n",
        "    print(\"Fizz\")\n",
        "if user_int % 5 == 0:\n",
        "    print(\"Buzz\")"
      ],
      "execution_count": 23,
      "outputs": [
        {
          "output_type": "stream",
          "text": [
            "請輸入一個正整數:15\n",
            "Fizz\n",
            "Buzz\n"
          ],
          "name": "stdout"
        }
      ]
    },
    {
      "cell_type": "code",
      "metadata": {
        "id": "rdqc39OEAfJ_",
        "colab_type": "code",
        "colab": {
          "base_uri": "https://localhost:8080/",
          "height": 52
        },
        "outputId": "8a3ff8be-c9f8-472a-9fad-c5bdb6776fa7"
      },
      "source": [
        "user_int = int(input(\"請輸入一個正整數:\"))\n",
        "if user_int % 15 == 0:\n",
        "    print(\"Fizz Buzz\")\n",
        "elif user_int % 5 == 0:\n",
        "    print(\"Buzz\")\n",
        "elif user_int % 3 == 0:\n",
        "    print(\"Fizz\")\n",
        "else:\n",
        "    print(user_int)\n",
        "    "
      ],
      "execution_count": 24,
      "outputs": [
        {
          "output_type": "stream",
          "text": [
            "請輸入一個正整數:16\n",
            "16\n"
          ],
          "name": "stdout"
        }
      ]
    },
    {
      "cell_type": "code",
      "metadata": {
        "id": "nGJse7imAfFv",
        "colab_type": "code",
        "colab": {
          "base_uri": "https://localhost:8080/",
          "height": 104
        },
        "outputId": "5d71f0ec-ca4f-4788-889b-b638f230625c"
      },
      "source": [
        "\n",
        "x = int(input(\"請輸入起始的整數:\"))\n",
        "y = int(input(\"請輸入終止的整數:\"))\n",
        "i = x # start\n",
        "while i <= y: # stop\n",
        "    # task\n",
        "    if i % 2 == 1:\n",
        "        print(i)\n",
        "    i += 1 # step"
      ],
      "execution_count": 25,
      "outputs": [
        {
          "output_type": "stream",
          "text": [
            "請輸入起始的整數:5\n",
            "請輸入終止的整數:10\n",
            "5\n",
            "7\n",
            "9\n"
          ],
          "name": "stdout"
        }
      ]
    }
  ]
}